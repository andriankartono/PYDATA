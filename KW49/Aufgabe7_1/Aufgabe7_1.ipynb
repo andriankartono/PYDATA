{
 "cells": [
  {
   "cell_type": "code",
   "execution_count": 144,
   "metadata": {},
   "outputs": [],
   "source": [
    "import pandas as pd\n",
    "import numpy as np\n",
    "from sklearn.linear_model import Lasso\n",
    "from sklearn.metrics import r2_score\n",
    "from sklearn.model_selection import train_test_split\n",
    "import matplotlib.pyplot as plt"
   ]
  },
  {
   "cell_type": "code",
   "execution_count": 145,
   "metadata": {},
   "outputs": [],
   "source": [
    "df=pd.read_csv(\"credit.csv\")\n",
    "y=df[\"Balance\"]\n",
    "X=df.iloc[:,1:5]\n",
    "string_list=[\"Income\",\"Limit\", \"Rating\", \"Cards\"]\n",
    "x_train, x_test, y_train, y_test= train_test_split(X, y, shuffle=True, train_size=0.2)\n",
    "lasso_alphas=np.arange(0,10000,10)\n",
    "Coef_List=[]\n",
    "Metric_List=[]\n"
   ]
  },
  {
   "cell_type": "code",
   "execution_count": 146,
   "metadata": {},
   "outputs": [
    {
     "name": "stderr",
     "output_type": "stream",
     "text": [
      "C:\\Users\\johan\\AppData\\Local\\Temp/ipykernel_2624/2806386284.py:3: UserWarning: With alpha=0, this algorithm does not converge well. You are advised to use the LinearRegression estimator\n",
      "  lasso.fit(x_train,y_train)\n",
      "C:\\Users\\johan\\AppData\\Local\\Programs\\Python\\Python39\\lib\\site-packages\\sklearn\\linear_model\\_coordinate_descent.py:647: UserWarning: Coordinate descent with no regularization may lead to unexpected results and is discouraged.\n",
      "  model = cd_fast.enet_coordinate_descent(\n",
      "C:\\Users\\johan\\AppData\\Local\\Programs\\Python\\Python39\\lib\\site-packages\\sklearn\\linear_model\\_coordinate_descent.py:647: ConvergenceWarning: Objective did not converge. You might want to increase the number of iterations, check the scale of the features or consider increasing regularisation. Duality gap: 1.169e+06, tolerance: 1.686e+03 Linear regression models with null weight for the l1 regularization term are more efficiently fitted using one of the solvers implemented in sklearn.linear_model.Ridge/RidgeCV instead.\n",
      "  model = cd_fast.enet_coordinate_descent(\n",
      "C:\\Users\\johan\\AppData\\Local\\Programs\\Python\\Python39\\lib\\site-packages\\sklearn\\linear_model\\_coordinate_descent.py:647: ConvergenceWarning: Objective did not converge. You might want to increase the number of iterations, check the scale of the features or consider increasing regularisation. Duality gap: 2.681e+04, tolerance: 1.686e+03\n",
      "  model = cd_fast.enet_coordinate_descent(\n"
     ]
    }
   ],
   "source": [
    "for alphas in lasso_alphas:\n",
    "    lasso=Lasso(alpha=alphas)\n",
    "    lasso.fit(x_train,y_train)\n",
    "    y_pred=lasso.predict(x_test)\n",
    "    Metric_List.append(r2_score(y_pred,y_test))\n",
    "    Coef_List.append(lasso.coef_)\n",
    "    \n",
    "Array=np.array(Coef_List)\n"
   ]
  },
  {
   "cell_type": "code",
   "execution_count": 148,
   "metadata": {},
   "outputs": [
    {
     "data": {
      "text/plain": [
       "array([[-8.29782023,  0.16294929,  1.46373304, 36.92902825],\n",
       "       [-8.26975619,  0.13876138,  1.83245183, 29.61290692],\n",
       "       [-8.24145001,  0.11522832,  2.19143687, 22.34163889],\n",
       "       ...,\n",
       "       [-0.        ,  0.17876827,  0.        ,  0.        ],\n",
       "       [-0.        ,  0.17876605,  0.        ,  0.        ],\n",
       "       [-0.        ,  0.17876384,  0.        ,  0.        ]])"
      ]
     },
     "execution_count": 148,
     "metadata": {},
     "output_type": "execute_result"
    }
   ],
   "source": [
    "Array"
   ]
  },
  {
   "cell_type": "code",
   "execution_count": 147,
   "metadata": {},
   "outputs": [
    {
     "data": {
      "text/plain": [
       "Text(0.5, 0, 'alpha')"
      ]
     },
     "execution_count": 147,
     "metadata": {},
     "output_type": "execute_result"
    },
    {
     "data": {
      "image/png": "[encoded data removed]",
      "text/plain": [
       "<Figure size 432x288 with 2 Axes>"
      ]
     },
     "metadata": {
      "needs_background": "light"
     },
     "output_type": "display_data"
    }
   ],
   "source": [
    "fig= plt.figure()\n",
    "spec=fig.add_gridspec(ncols=1, nrows=2)\n",
    "\n",
    "ax0=fig.add_subplot(spec[0,0])\n",
    "ax0.set_xscale('log')\n",
    "ax0.set_xlim(right=10500)\n",
    "ax0.set_ylim(-9,9)\n",
    "ax0.set_ylabel(\"Value of the coefficient\")\n",
    "ax0.plot(lasso_alphas, Array[:,0], label=\"Income\")\n",
    "ax0.plot(lasso_alphas, Array[:,1], label=\"Limit\")\n",
    "ax0.plot(lasso_alphas, Array[:,2], label=\"Ratings\")\n",
    "ax0.plot(lasso_alphas, Array[:,3], label=\"Cards\")\n",
    "ax0.legend(loc='lower left')\n",
    "\n",
    "ax1=fig.add_subplot(spec[1,0], sharex=ax0)\n",
    "ax1.plot(lasso_alphas, Metric_List)\n",
    "ax1.set_ylabel(\"$R^2$\")\n",
    "ax1.set_xlabel(\"alpha\")"
   ]
  }
 ],
 "metadata": {
  "interpreter": {
   "hash": "f895f3828335fe46f73ce365c88adfdf701549b1031659c6fc3c92d79d692c8b"
  },
  "kernelspec": {
   "display_name": "Python 3.9.7 64-bit",
   "language": "python",
   "name": "python3"
  },
  "language_info": {
   "codemirror_mode": {
    "name": "ipython",
    "version": 3
   },
   "file_extension": ".py",
   "mimetype": "text/x-python",
   "name": "python",
   "nbconvert_exporter": "python",
   "pygments_lexer": "ipython3",
   "version": "3.9.7"
  },
  "orig_nbformat": 4
 },
 "nbformat": 4,
 "nbformat_minor": 2
}
