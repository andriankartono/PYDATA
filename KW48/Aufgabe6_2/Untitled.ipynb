{
 "cells": [
  {
   "cell_type": "code",
   "execution_count": 15,
   "id": "8e268afc",
   "metadata": {},
   "outputs": [
    {
     "data": {
      "text/html": [
       "<div>\n",
       "<style scoped>\n",
       "    .dataframe tbody tr th:only-of-type {\n",
       "        vertical-align: middle;\n",
       "    }\n",
       "\n",
       "    .dataframe tbody tr th {\n",
       "        vertical-align: top;\n",
       "    }\n",
       "\n",
       "    .dataframe thead th {\n",
       "        text-align: right;\n",
       "    }\n",
       "</style>\n",
       "<table border=\"1\" class=\"dataframe\">\n",
       "  <thead>\n",
       "    <tr style=\"text-align: right;\">\n",
       "      <th></th>\n",
       "      <th>x</th>\n",
       "      <th>g</th>\n",
       "    </tr>\n",
       "  </thead>\n",
       "  <tbody>\n",
       "    <tr>\n",
       "      <th>0</th>\n",
       "      <td>0</td>\n",
       "      <td>10.60</td>\n",
       "    </tr>\n",
       "    <tr>\n",
       "      <th>1</th>\n",
       "      <td>25</td>\n",
       "      <td>16.00</td>\n",
       "    </tr>\n",
       "    <tr>\n",
       "      <th>2</th>\n",
       "      <td>50</td>\n",
       "      <td>45.00</td>\n",
       "    </tr>\n",
       "    <tr>\n",
       "      <th>3</th>\n",
       "      <td>75</td>\n",
       "      <td>83.50</td>\n",
       "    </tr>\n",
       "    <tr>\n",
       "      <th>4</th>\n",
       "      <td>100</td>\n",
       "      <td>52.80</td>\n",
       "    </tr>\n",
       "    <tr>\n",
       "      <th>5</th>\n",
       "      <td>125</td>\n",
       "      <td>19.90</td>\n",
       "    </tr>\n",
       "    <tr>\n",
       "      <th>6</th>\n",
       "      <td>150</td>\n",
       "      <td>10.80</td>\n",
       "    </tr>\n",
       "    <tr>\n",
       "      <th>7</th>\n",
       "      <td>175</td>\n",
       "      <td>8.25</td>\n",
       "    </tr>\n",
       "    <tr>\n",
       "      <th>8</th>\n",
       "      <td>200</td>\n",
       "      <td>4.70</td>\n",
       "    </tr>\n",
       "  </tbody>\n",
       "</table>\n",
       "</div>"
      ],
      "text/plain": [
       "     x      g\n",
       "0    0  10.60\n",
       "1   25  16.00\n",
       "2   50  45.00\n",
       "3   75  83.50\n",
       "4  100  52.80\n",
       "5  125  19.90\n",
       "6  150  10.80\n",
       "7  175   8.25\n",
       "8  200   4.70"
      ]
     },
     "execution_count": 15,
     "metadata": {},
     "output_type": "execute_result"
    }
   ],
   "source": [
    "import pandas as pd\n",
    "import numpy as np\n",
    "\n",
    "df=pd.read_csv(\"breit_wigner.csv\")\n",
    "df"
   ]
  },
  {
   "cell_type": "code",
   "execution_count": 11,
   "id": "10b9760f",
   "metadata": {},
   "outputs": [],
   "source": [
    "def breit_wigner(a,b,c,x):\n",
    "    result= a/((b-x)**2+c)\n",
    "    return result\n"
   ]
  },
  {
   "cell_type": "code",
   "execution_count": 8,
   "id": "8c531514",
   "metadata": {},
   "outputs": [],
   "source": [
    "def derivative(a,b,c,x, d_param):\n",
    "    step=0.001\n",
    "    if(d_param==\"a\"):\n",
    "        temp_plus=a+step\n",
    "        temp_minus=a-step\n",
    "        return (breit_wigner(temp_plus,b,c,x)-breit_wigner(temp_minus, b, c, x))/(2*step)\n",
    "    elif(d_param==\"b\"):\n",
    "        temp_plus=b+step\n",
    "        temp_minus=b-step\n",
    "        return (breit_wigner(a,temp_plus,c,x)-breit_wigner(a, temp_minus, c, x))/(2*step)\n",
    "    elif(d_param==\"c\"):\n",
    "        temp_plus=c+step\n",
    "        temp_minus=c-step\n",
    "        return (breit_wigner(a,b,temp_plus,x)-breit_wigner(a, b, temp_minus, x))/(2*step)\n",
    "    "
   ]
  },
  {
   "cell_type": "code",
   "execution_count": 42,
   "id": "8b672618",
   "metadata": {},
   "outputs": [],
   "source": [
    "def jacobi_matrix(a,b,c, array):\n",
    "    list_a=[]\n",
    "    list_b=[]\n",
    "    list_c=[]\n",
    "\n",
    "    for x in array:\n",
    "        list_a.append(derivative(a,b,c,x, \"a\"))\n",
    "        list_b.append(derivative(a,b,c,x, \"b\"))\n",
    "        list_c.append(derivative(a,b,c,x, \"c\"))\n",
    "    \n",
    "    Series_a, Series_b, Series_c= np.array(list_a), np.array(list_b), np.array(list_c)\n",
    "    Jacobi=np.column_stack((Series_a,Series_b, Series_c))\n",
    "    return Jacobi"
   ]
  },
  {
   "cell_type": "code",
   "execution_count": 43,
   "id": "53d107da",
   "metadata": {},
   "outputs": [
    {
     "data": {
      "text/plain": [
       "array([[ 2.32558140e-03, -1.08166577e-01, -2.70416441e-03],\n",
       "       [ 1.81818182e-02,  1.65289256e+00, -1.65289256e-01],\n",
       "       [ 1.07526882e-03,  3.46860909e-02, -5.78101515e-04],\n",
       "       [ 3.27332242e-04,  5.89305183e-03, -5.35731984e-05],\n",
       "       [ 1.55520995e-04,  1.93494240e-03, -1.20933900e-05],\n",
       "       [ 9.04568069e-05,  8.59155561e-04, -4.09121696e-06],\n",
       "       [ 5.90667454e-05,  4.53554454e-04, -1.74444021e-06],\n",
       "       [ 4.15713989e-05,  2.67868087e-04, -8.64090601e-07],\n",
       "       [ 3.08356460e-05,  1.71150672e-04, -4.75418532e-07]])"
      ]
     },
     "execution_count": 43,
     "metadata": {},
     "output_type": "execute_result"
    }
   ],
   "source": [
    "jacobi=jacobi_matrix(500,20,30, df[\"x\"])\n",
    "jacobi"
   ]
  }
 ],
 "metadata": {
  "kernelspec": {
   "display_name": "Python 3 (ipykernel)",
   "language": "python",
   "name": "python3"
  },
  "language_info": {
   "codemirror_mode": {
    "name": "ipython",
    "version": 3
   },
   "file_extension": ".py",
   "mimetype": "text/x-python",
   "name": "python",
   "nbconvert_exporter": "python",
   "pygments_lexer": "ipython3",
   "version": "3.9.7"
  }
 },
 "nbformat": 4,
 "nbformat_minor": 5
}
